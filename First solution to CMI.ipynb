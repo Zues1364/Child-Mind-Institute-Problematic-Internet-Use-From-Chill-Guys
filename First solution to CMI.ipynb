{
 "metadata": {
  "kernelspec": {
   "display_name": "Python 3",
   "language": "python",
   "name": "python3"
  },
  "language_info": {
   "name": "python",
   "version": "3.10.12",
   "mimetype": "text/x-python",
   "codemirror_mode": {
    "name": "ipython",
    "version": 3
   },
   "pygments_lexer": "ipython3",
   "nbconvert_exporter": "python",
   "file_extension": ".py"
  },
  "kaggle": {
   "accelerator": "gpu",
   "dataSources": [
    {
     "sourceId": 81933,
     "databundleVersionId": 9643020,
     "sourceType": "competition"
    }
   ],
   "dockerImageVersionId": 30823,
   "isInternetEnabled": false,
   "language": "python",
   "sourceType": "notebook",
   "isGpuEnabled": true
  }
 },
 "nbformat_minor": 4,
 "nbformat": 4,
 "cells": [
  {
   "cell_type": "code",
   "source": "import numpy as np\nimport polars as pl\nimport pandas as pd\nfrom sklearn.base import clone\nfrom copy import deepcopy\nimport optuna\nfrom scipy.optimize import minimize\nimport os\nimport matplotlib.pyplot as plt\nimport seaborn as sns\n\nimport torch\nimport torch.nn as nn\nimport torch.optim as optim\nimport re\nfrom colorama import Fore, Style\n\nfrom tqdm import tqdm\nfrom IPython.display import clear_output\nfrom concurrent.futures import ThreadPoolExecutor\n\nimport warnings\nwarnings.filterwarnings('ignore')\npd.options.display.max_columns = None\n\nimport lightgbm as lgb\nfrom catboost import CatBoostRegressor, CatBoostClassifier\nfrom xgboost import XGBRegressor\nfrom sklearn.ensemble import VotingRegressor\nfrom sklearn.model_selection import *\nfrom sklearn.metrics import *\n",
   "metadata": {
    "ExecuteTime": {
     "end_time": "2024-12-19T11:24:56.634060Z",
     "start_time": "2024-12-19T11:24:56.622903Z"
    },
    "trusted": true,
    "execution": {
     "iopub.status.busy": "2024-12-21T18:58:33.532581Z",
     "iopub.execute_input": "2024-12-21T18:58:33.532767Z",
     "iopub.status.idle": "2024-12-21T18:58:41.956118Z",
     "shell.execute_reply.started": "2024-12-21T18:58:33.532749Z",
     "shell.execute_reply": "2024-12-21T18:58:41.955230Z"
    }
   },
   "outputs": [],
   "execution_count": null
  },
  {
   "cell_type": "code",
   "source": [
    "import random\n",
    "def seed_everything(seed):\n",
    "    random.seed(seed)\n",
    "    os.environ['PYTHONHASHSEED'] = str(seed)\n",
    "    np.random.seed(seed)\n",
    "    torch.manual_seed(seed)\n",
    "    torch.cuda.manual_seed(seed)\n",
    "    torch.backends.cudnn.deterministic = True\n",
    "    torch.backends.cudnn.benchmark = True\n",
    "seed_everything(2024)"
   ],
   "metadata": {
    "trusted": true,
    "execution": {
     "iopub.status.busy": "2024-12-21T18:58:41.956909Z",
     "iopub.execute_input": "2024-12-21T18:58:41.957414Z",
     "iopub.status.idle": "2024-12-21T18:58:41.965654Z",
     "shell.execute_reply.started": "2024-12-21T18:58:41.957390Z",
     "shell.execute_reply": "2024-12-21T18:58:41.964866Z"
    },
    "jupyter": {
     "is_executing": true
    }
   },
   "outputs": [],
   "execution_count": null
  },
  {
   "cell_type": "code",
   "source": "SEED = 42\nn_splits = 5",
   "metadata": {
    "trusted": true,
    "execution": {
     "iopub.status.busy": "2024-12-21T18:58:41.966470Z",
     "iopub.execute_input": "2024-12-21T18:58:41.966749Z",
     "iopub.status.idle": "2024-12-21T18:58:41.981191Z",
     "shell.execute_reply.started": "2024-12-21T18:58:41.966721Z",
     "shell.execute_reply": "2024-12-21T18:58:41.980490Z"
    }
   },
   "outputs": [],
   "execution_count": null
  },
  {
   "cell_type": "code",
   "source": "def process_file(filename, dirname):\n    df = pd.read_parquet(os.path.join(dirname, filename, 'part-0.parquet'))\n    df.drop('step', axis=1, inplace=True)\n    return df.describe().values.reshape(-1), filename.split('=')[1]\n\ndef load_time_series(dirname) -> pd.DataFrame:\n    ids = os.listdir(dirname)\n    \n    with ThreadPoolExecutor() as executor:\n        results = list(tqdm(executor.map(lambda fname: process_file(fname, dirname), ids), total=len(ids)))\n    \n    stats, indexes = zip(*results)\n    \n    df = pd.DataFrame(stats, columns=[f\"Stat_{i}\" for i in range(len(stats[0]))])\n    df['id'] = indexes\n    \n    return df\n\ntrain = pd.read_csv('/kaggle/input/child-mind-institute-problematic-internet-use/train.csv')\ntest = pd.read_csv('/kaggle/input/child-mind-institute-problematic-internet-use/test.csv')\nsample = pd.read_csv('/kaggle/input/child-mind-institute-problematic-internet-use/sample_submission.csv')\n\ntrain_ts = load_time_series(\"/kaggle/input/child-mind-institute-problematic-internet-use/series_train.parquet\")\ntest_ts = load_time_series(\"/kaggle/input/child-mind-institute-problematic-internet-use/series_test.parquet\")\ntime_series_cols = train_ts.columns.tolist()\ntime_series_cols.remove(\"id\")\n\ntrain = pd.merge(train, train_ts, how=\"left\", on='id')\ntest = pd.merge(test, test_ts, how=\"left\", on='id')\n\ntrain = train.drop('id', axis=1)\ntest = test.drop('id', axis=1)\n\nfeaturesCols = ['Basic_Demos-Enroll_Season', 'Basic_Demos-Age', 'Basic_Demos-Sex',\n                'CGAS-Season', 'CGAS-CGAS_Score', 'Physical-Season', 'Physical-BMI',\n                'Physical-Height', 'Physical-Weight', 'Physical-Waist_Circumference',\n                'Physical-Diastolic_BP', 'Physical-HeartRate', 'Physical-Systolic_BP',\n                'Fitness_Endurance-Season', 'Fitness_Endurance-Max_Stage',\n                'Fitness_Endurance-Time_Mins', 'Fitness_Endurance-Time_Sec',\n                'FGC-Season', 'FGC-FGC_CU', 'FGC-FGC_CU_Zone', 'FGC-FGC_GSND',\n                'FGC-FGC_GSND_Zone', 'FGC-FGC_GSD', 'FGC-FGC_GSD_Zone', 'FGC-FGC_PU',\n                'FGC-FGC_PU_Zone', 'FGC-FGC_SRL', 'FGC-FGC_SRL_Zone', 'FGC-FGC_SRR',\n                'FGC-FGC_SRR_Zone', 'FGC-FGC_TL', 'FGC-FGC_TL_Zone', 'BIA-Season',\n                'BIA-BIA_Activity_Level_num', 'BIA-BIA_BMC', 'BIA-BIA_BMI',\n                'BIA-BIA_BMR', 'BIA-BIA_DEE', 'BIA-BIA_ECW', 'BIA-BIA_FFM',\n                'BIA-BIA_FFMI', 'BIA-BIA_FMI', 'BIA-BIA_Fat', 'BIA-BIA_Frame_num',\n                'BIA-BIA_ICW', 'BIA-BIA_LDM', 'BIA-BIA_LST', 'BIA-BIA_SMM',\n                'BIA-BIA_TBW', 'PAQ_A-Season', 'PAQ_A-PAQ_A_Total', 'PAQ_C-Season',\n                'PAQ_C-PAQ_C_Total', 'SDS-Season', 'SDS-SDS_Total_Raw',\n                'SDS-SDS_Total_T', 'PreInt_EduHx-Season',\n                'PreInt_EduHx-computerinternet_hoursday', 'sii']\n\nfeaturesCols += time_series_cols\n\ntrain = train[featuresCols]\ntrain = train.dropna(subset='sii')\n\ncat_c = ['Basic_Demos-Enroll_Season', 'CGAS-Season', 'Physical-Season', 'Fitness_Endurance-Season', \n          'FGC-Season', 'BIA-Season', 'PAQ_A-Season', 'PAQ_C-Season', 'SDS-Season', 'PreInt_EduHx-Season']\n\ndef update(df):\n    for c in cat_c: \n        df[c] = df[c].fillna('Missing')\n        df[c] = df[c].astype('category')\n    return df\n        \ntrain = update(train)\ntest = update(test)\n\ndef create_mapping(column, dataset):\n    unique_values = dataset[column].unique()\n    return {value: idx for idx, value in enumerate(unique_values)}\n\nfor col in cat_c:\n    mapping_train = create_mapping(col, train)\n    mapping_test = create_mapping(col, test)\n    \n    train[col] = train[col].replace(mapping_train).astype(int)\n    test[col] = test[col].replace(mapping_test).astype(int)\n\nprint(f'Train Shape : {train.shape} || Test Shape : {test.shape}')",
   "metadata": {
    "ExecuteTime": {
     "end_time": "2024-12-19T11:24:56.644429Z",
     "start_time": "2024-12-19T11:24:56.641614Z"
    },
    "trusted": true,
    "execution": {
     "iopub.status.busy": "2024-12-21T18:58:41.983187Z",
     "iopub.execute_input": "2024-12-21T18:58:41.983435Z",
     "iopub.status.idle": "2024-12-21T18:59:49.550878Z",
     "shell.execute_reply.started": "2024-12-21T18:58:41.983408Z",
     "shell.execute_reply": "2024-12-21T18:59:49.550151Z"
    }
   },
   "outputs": [],
   "execution_count": null
  },
  {
   "cell_type": "code",
   "source": "train.head()",
   "metadata": {
    "ExecuteTime": {
     "end_time": "2024-12-19T11:26:20.370777Z",
     "start_time": "2024-12-19T11:24:56.956433Z"
    },
    "trusted": true,
    "execution": {
     "iopub.status.busy": "2024-12-21T18:59:49.551857Z",
     "iopub.execute_input": "2024-12-21T18:59:49.552187Z",
     "iopub.status.idle": "2024-12-21T18:59:49.644711Z",
     "shell.execute_reply.started": "2024-12-21T18:59:49.552163Z",
     "shell.execute_reply": "2024-12-21T18:59:49.643893Z"
    }
   },
   "outputs": [],
   "execution_count": null
  },
  {
   "cell_type": "code",
   "source": "test.head()",
   "metadata": {
    "ExecuteTime": {
     "end_time": "2024-12-19T11:26:20.566058Z",
     "start_time": "2024-12-19T11:26:20.556364Z"
    },
    "trusted": true,
    "execution": {
     "iopub.status.busy": "2024-12-21T18:59:49.645599Z",
     "iopub.execute_input": "2024-12-21T18:59:49.645827Z",
     "iopub.status.idle": "2024-12-21T18:59:49.736673Z",
     "shell.execute_reply.started": "2024-12-21T18:59:49.645788Z",
     "shell.execute_reply": "2024-12-21T18:59:49.735952Z"
    }
   },
   "outputs": [],
   "execution_count": null
  },
  {
   "cell_type": "code",
   "source": "def quadratic_weighted_kappa(y_true, y_pred):\n    return cohen_kappa_score(y_true, y_pred, weights='quadratic')\n\ndef threshold_Rounder(oof_non_rounded, thresholds):\n    return np.where(oof_non_rounded < thresholds[0], 0,\n                    np.where(oof_non_rounded < thresholds[1], 1,\n                             np.where(oof_non_rounded < thresholds[2], 2, 3)))\n\ndef evaluate_predictions(thresholds, y_true, oof_non_rounded):\n    rounded_p = threshold_Rounder(oof_non_rounded, thresholds)\n    return -quadratic_weighted_kappa(y_true, rounded_p)\n\ndef TrainML(model_class, test_data):\n    \n    X = train.drop(['sii'], axis=1)\n    y = train['sii']\n\n    SKF = StratifiedKFold(n_splits=n_splits, shuffle=True, random_state=SEED)\n    \n    train_S = []\n    test_S = []\n    \n    oof_non_rounded = np.zeros(len(y), dtype=float) \n    oof_rounded = np.zeros(len(y), dtype=int) \n    test_preds = np.zeros((len(test_data), n_splits))\n\n    for fold, (train_idx, test_idx) in enumerate(tqdm(SKF.split(X, y), desc=\"Training Folds\", total=n_splits)):\n        X_train, X_val = X.iloc[train_idx], X.iloc[test_idx]\n        y_train, y_val = y.iloc[train_idx], y.iloc[test_idx]\n\n        model = clone(model_class)\n        model.fit(X_train, y_train)\n\n        y_train_pred = model.predict(X_train)\n        y_val_pred = model.predict(X_val)\n\n        oof_non_rounded[test_idx] = y_val_pred\n        y_val_pred_rounded = y_val_pred.round(0).astype(int)\n        oof_rounded[test_idx] = y_val_pred_rounded\n\n        train_kappa = quadratic_weighted_kappa(y_train, y_train_pred.round(0).astype(int))\n        val_kappa = quadratic_weighted_kappa(y_val, y_val_pred_rounded)\n\n        train_S.append(train_kappa)\n        test_S.append(val_kappa)\n        \n        test_preds[:, fold] = model.predict(test_data)\n        \n        print(f\"Fold {fold+1} - Train QWK: {train_kappa:.4f}, Validation QWK: {val_kappa:.4f}\")\n        clear_output(wait=True)\n\n    print(f\"Mean Train QWK --> {np.mean(train_S):.4f}\")\n    print(f\"Mean Validation QWK ---> {np.mean(test_S):.4f}\")\n\n    KappaOPtimizer = minimize(evaluate_predictions,\n                              x0=[0.5, 1.5, 2.5], args=(y, oof_non_rounded), \n                              method='Nelder-Mead') # Nelder-Mead | # Powell\n    assert KappaOPtimizer.success, \"Optimization did not converge.\"\n    \n    oof_tuned = threshold_Rounder(oof_non_rounded, KappaOPtimizer.x)\n    tKappa = quadratic_weighted_kappa(y, oof_tuned)\n\n    print(f\"----> || Optimized QWK SCORE :: {Fore.CYAN}{Style.BRIGHT} {tKappa:.3f}{Style.RESET_ALL}\")\n\n    tpm = test_preds.mean(axis=1)\n    tpTuned = threshold_Rounder(tpm, KappaOPtimizer.x)\n    \n    submission = pd.DataFrame({\n        'id': sample['id'],\n        'sii': tpTuned\n    })\n\n    return submission,model",
   "metadata": {
    "ExecuteTime": {
     "end_time": "2024-12-19T11:26:20.576713Z",
     "start_time": "2024-12-19T11:26:20.570589Z"
    },
    "trusted": true,
    "execution": {
     "iopub.status.busy": "2024-12-21T18:59:49.737346Z",
     "iopub.execute_input": "2024-12-21T18:59:49.737540Z",
     "iopub.status.idle": "2024-12-21T18:59:49.746713Z",
     "shell.execute_reply.started": "2024-12-21T18:59:49.737524Z",
     "shell.execute_reply": "2024-12-21T18:59:49.745883Z"
    }
   },
   "outputs": [],
   "execution_count": null
  },
  {
   "cell_type": "code",
   "source": "Params = {\n    'learning_rate': 0.046,\n    'max_depth': 12,\n    'num_leaves': 478, \n    'min_data_in_leaf': 13,\n    'feature_fraction': 0.893, \n    'bagging_fraction': 0.784, \n    'bagging_freq': 4, \n    'lambda_l1': 10, \n    'lambda_l2': 0.01\n\n} \n\nLight = lgb.LGBMRegressor(**Params,random_state=SEED, verbose=-1,n_estimators=300)\nSubmission,model = TrainML(Light,test)",
   "metadata": {
    "ExecuteTime": {
     "end_time": "2024-12-19T11:26:20.745300Z",
     "start_time": "2024-12-19T11:26:20.730706Z"
    },
    "trusted": true,
    "execution": {
     "iopub.status.busy": "2024-12-21T18:59:49.747409Z",
     "iopub.execute_input": "2024-12-21T18:59:49.747630Z",
     "iopub.status.idle": "2024-12-21T18:59:57.131909Z",
     "shell.execute_reply.started": "2024-12-21T18:59:49.747612Z",
     "shell.execute_reply": "2024-12-21T18:59:57.131251Z"
    }
   },
   "outputs": [],
   "execution_count": null
  },
  {
   "cell_type": "code",
   "source": "feature_importance_df = pd.DataFrame({\n    'Feature': model.booster_.feature_name(),\n    'Importance': model.booster_.feature_importance(importance_type='gain')\n})\n\nfeature_importance_df = feature_importance_df.sort_values(by='Importance', ascending=False)\n\nplt.figure(figsize=(10, 20))\nsns.barplot(x='Importance', y='Feature', data=feature_importance_df.head(100), orient = 'h') \nplt.gca().invert_yaxis()\nplt.title(\"Top Feature Importance\")\nplt.show()\n\n\nSubmission",
   "metadata": {
    "trusted": true,
    "execution": {
     "iopub.status.busy": "2024-12-21T18:59:57.132665Z",
     "iopub.execute_input": "2024-12-21T18:59:57.132966Z",
     "iopub.status.idle": "2024-12-21T18:59:58.320767Z",
     "shell.execute_reply.started": "2024-12-21T18:59:57.132940Z",
     "shell.execute_reply": "2024-12-21T18:59:58.319788Z"
    }
   },
   "outputs": [],
   "execution_count": null
  },
  {
   "cell_type": "code",
   "source": "Submission.to_csv('submission.csv', index=False)",
   "metadata": {
    "trusted": true,
    "execution": {
     "iopub.status.busy": "2024-12-21T18:59:58.321948Z",
     "iopub.execute_input": "2024-12-21T18:59:58.322283Z",
     "iopub.status.idle": "2024-12-21T18:59:58.328435Z",
     "shell.execute_reply.started": "2024-12-21T18:59:58.322249Z",
     "shell.execute_reply": "2024-12-21T18:59:58.327618Z"
    }
   },
   "outputs": [],
   "execution_count": null
  }
 ]
}
